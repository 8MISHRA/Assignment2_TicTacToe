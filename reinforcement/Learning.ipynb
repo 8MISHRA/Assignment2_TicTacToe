{
 "cells": [
  {
   "cell_type": "code",
   "execution_count": null,
   "metadata": {},
   "outputs": [],
   "source": [
    "# Importing required modules.\n",
    "import copy\n",
    "import random\n",
    "import json\n",
    "import sys\n",
    "sys.path.append('C:\\\\Users\\\\Lenovo\\\\OneDrive\\\\Documents\\\\BTech\\\\AI\\\\AI_projects\\Tic_tack_toe\\\\')\n",
    "from helper import *"
   ]
  },
  {
   "cell_type": "code",
   "execution_count": null,
   "metadata": {},
   "outputs": [],
   "source": [
    "tree = {'NNNNNNNNN': 0}\n",
    "alpha = 0.23566"
   ]
  },
  {
   "cell_type": "code",
   "execution_count": null,
   "metadata": {},
   "outputs": [],
   "source": [
    "def learning(state, player, value = 0):\n",
    "    ''''''\n",
    "    for i in range(9):\n",
    "        if state[i] == 'N':\n",
    "            next_state = create_state(state, player, i + 1)\n",
    "            status = is_terminal(next_state)\n",
    "            if next_state not in tree:\n",
    "                tree[next_state] = 0\n",
    "            else:\n",
    "                tree[next_state] = value\n",
    "            if status[0]:\n",
    "                tree[next_state] = status[1]\n",
    "                tree[state] = tree[state] + alpha * (tree[next_state] - tree[state])\n",
    "                return\n",
    "            value = tree[state] + alpha * (tree[next_state] - tree[state])\n",
    "            tree[state] = value\n",
    "            learning(next_state, 'O' if player == 'X' else 'X', value)"
   ]
  },
  {
   "cell_type": "code",
   "execution_count": null,
   "metadata": {},
   "outputs": [],
   "source": [
    "# Iteration for learning the value for states.\n",
    "for i in range(10):\n",
    "    lst = list(tree.keys())\n",
    "    r = random.randint(0, len(lst) - 1)\n",
    "    k = lst[r]\n",
    "    learning(k, 'O', tree[k])"
   ]
  },
  {
   "cell_type": "code",
   "execution_count": null,
   "metadata": {},
   "outputs": [],
   "source": [
    "file_path = \"C:\\\\Users\\\\Lenovo\\\\OneDrive\\\\Documents\\\\BTech\\\\AI\\\\AI_projects\\\\Tic_tack_toe\\\\states.json\"\n",
    "with open(file_path, 'w') as json_file:\n",
    "    json.dump(tree, json_file)"
   ]
  }
 ],
 "metadata": {
  "kernelspec": {
   "display_name": "Python 3",
   "language": "python",
   "name": "python3"
  },
  "language_info": {
   "codemirror_mode": {
    "name": "ipython",
    "version": 3
   },
   "file_extension": ".py",
   "mimetype": "text/x-python",
   "name": "python",
   "nbconvert_exporter": "python",
   "pygments_lexer": "ipython3",
   "version": "3.9.7"
  }
 },
 "nbformat": 4,
 "nbformat_minor": 2
}
